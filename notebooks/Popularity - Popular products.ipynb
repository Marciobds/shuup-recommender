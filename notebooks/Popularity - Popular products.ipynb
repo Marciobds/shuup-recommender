{
 "cells": [
  {
   "cell_type": "markdown",
   "metadata": {},
   "source": [
    "# Popularity - Popular products\n",
    "\n",
    "A simple rank of most seen products and a simple rank of most sold products. Both results combined is the popularity rank."
   ]
  },
  {
   "cell_type": "markdown",
   "metadata": {},
   "source": [
    "### Initialize Django"
   ]
  },
  {
   "cell_type": "code",
   "execution_count": null,
   "metadata": {},
   "outputs": [],
   "source": [
    "import os\n",
    "os.environ.setdefault(\"DJANGO_SETTINGS_MODULE\", \"shuup_workbench.settings\")\n",
    "import django\n",
    "django.setup()"
   ]
  },
  {
   "cell_type": "markdown",
   "metadata": {},
   "source": [
    "### Remove old data"
   ]
  },
  {
   "cell_type": "code",
   "execution_count": null,
   "metadata": {},
   "outputs": [],
   "source": [
    "from django.contrib.auth import get_user_model\n",
    "from shuup.core.models import *\n",
    "from shuup_recommender.models import ProductView\n",
    "\n",
    "ShipmentProduct.objects.filter(shipment__order__identifier__startswith=\"fake-\").delete()\n",
    "Shipment.objects.filter(order__identifier__startswith=\"fake-\").delete()\n",
    "Payment.objects.filter(order__identifier__startswith=\"fake-\").delete()\n",
    "OrderLine.objects.filter(order__identifier__startswith=\"fake-\").delete()\n",
    "Order.objects.filter(identifier__startswith=\"fake-\").delete()\n",
    "PersonContact.objects.filter(identifier__startswith=\"fake-\").delete()\n",
    "Product.objects.filter(sku__startswith=\"fake-\").delete()\n",
    "get_user_model().objects.exclude(is_superuser=True).delete()\n",
    "ProductView.objects.all().delete()"
   ]
  },
  {
   "cell_type": "markdown",
   "metadata": {},
   "source": [
    "### Create fake data"
   ]
  },
  {
   "cell_type": "code",
   "execution_count": null,
   "metadata": {},
   "outputs": [],
   "source": [
    "import random\n",
    "import uuid\n",
    "from django.db.transaction import atomic\n",
    "from shuup.core.models import *\n",
    "from shuup.testing import factories\n",
    "\n",
    "\n",
    "shop = Shop.objects.first()\n",
    "supplier = factories.get_default_supplier()\n",
    "\n",
    "\n",
    "with atomic():\n",
    "    customers = []\n",
    "    for index in range(20):\n",
    "        customer = factories.create_random_person()\n",
    "        customer.identifier = \"fake-{}\".format(uuid.uuid4().hex)\n",
    "        customer.save()\n",
    "        customers.append(customer)\n",
    "\n",
    "    products = [\n",
    "        factories.create_product(\n",
    "            sku=\"fake-{}\".format(uuid.uuid4().hex),\n",
    "            shop=shop,\n",
    "            supplier=supplier,\n",
    "            default_price=random.randrange(1, 100)\n",
    "        )\n",
    "        for index in range(100)\n",
    "    ]\n",
    "\n",
    "    orders = []\n",
    "    for index in range(200):\n",
    "        order = factories.create_random_order(\n",
    "            customer=random.choice(customers),\n",
    "            products=products,\n",
    "            completion_probability=1,\n",
    "            shop=shop\n",
    "        )\n",
    "        order.identifier = \"fake-{}\".format(uuid.uuid4().hex)\n",
    "        order.save()\n",
    "        orders.append(order)"
   ]
  },
  {
   "cell_type": "markdown",
   "metadata": {},
   "source": [
    "### Generate random product views"
   ]
  },
  {
   "cell_type": "code",
   "execution_count": null,
   "metadata": {},
   "outputs": [],
   "source": [
    "import random\n",
    "from django.db.transaction import atomic\n",
    "from django.contrib.auth import get_user_model\n",
    "from shuup.core.models import *\n",
    "from shuup_recommender.models import ProductView\n",
    "from shuup.testing import factories\n",
    "\n",
    "customers = list(PersonContact.objects.all())\n",
    "products = list(Product.objects.all())\n",
    "User = get_user_model()\n",
    "\n",
    "with atomic():\n",
    "    for i in range(1000):\n",
    "        customer = random.choice(customers)\n",
    "        product = random.choice(products)\n",
    "        customer.refresh_from_db()\n",
    "\n",
    "        user = getattr(customer, \"user\", None)\n",
    "        if not user:\n",
    "            user = factories.create_random_user()\n",
    "            customer.user = user\n",
    "            customer.save()\n",
    "\n",
    "        ProductView.objects.create(product=product, user=user)"
   ]
  },
  {
   "cell_type": "markdown",
   "metadata": {},
   "source": [
    "## 1. Get most sold products"
   ]
  },
  {
   "cell_type": "code",
   "execution_count": null,
   "metadata": {},
   "outputs": [],
   "source": [
    "import pandas as pd\n",
    "from django_pandas.io import read_frame\n",
    "from shuup.core.models import OrderLine, OrderStatus, Shop\n",
    "\n",
    "shop = Shop.objects.first()\n",
    "\n",
    "order_lines = OrderLine.objects.products().filter(\n",
    "    order__status=OrderStatus.objects.get_default_complete(),\n",
    "    order__shop=shop\n",
    ")\n",
    "items_df = read_frame(order_lines, fieldnames=[\"product_id\", \"quantity\"], verbose=False)\n",
    "\n",
    "# group by product ID and sum quantities\n",
    "sold_items = items_df.groupby([\"product_id\"]).sum()\n",
    "\n",
    "# get the max value of quantity\n",
    "max_value = sold_items[\"quantity\"].max()\n",
    "\n",
    "# normalize the values - this way we can easily plot them later\n",
    "sold_items[\"sold_rank\"] = (sold_items[\"quantity\"] / max_value).apply(pd.to_numeric)\n",
    "\n",
    "# remove quantity col\n",
    "del(sold_items[\"quantity\"])\n",
    "\n",
    "# sort values by rank\n",
    "sold_items_rank = sold_items"
   ]
  },
  {
   "cell_type": "markdown",
   "metadata": {},
   "source": [
    "## 2. Get most viewed products"
   ]
  },
  {
   "cell_type": "code",
   "execution_count": null,
   "metadata": {},
   "outputs": [],
   "source": [
    "import pandas as pd\n",
    "from django_pandas.io import read_frame\n",
    "\n",
    "from shuup.core.models import Shop\n",
    "from shuup_recommender.models import ProductView\n",
    "\n",
    "shop = Shop.objects.first()\n",
    "\n",
    "product_views_df = read_frame(ProductView.objects.all(), fieldnames=[\"product_id\"], verbose=False)\n",
    "product_views_df[\"views\"] = 1\n",
    "\n",
    "# group by product ID and sum views\n",
    "viewed_products = product_views_df.groupby([\"product_id\"]).sum()\n",
    "\n",
    "# get the max value of views\n",
    "max_value = viewed_products[\"views\"].max()\n",
    "\n",
    "# normalize the values - this way we can easily plot them later\n",
    "viewed_products[\"view_rank\"] = (viewed_products[\"views\"] / max_value).apply(pd.to_numeric)\n",
    "\n",
    "# remove views col\n",
    "del(viewed_products[\"views\"])\n",
    "\n",
    "viewed_products_rank = viewed_products"
   ]
  },
  {
   "cell_type": "markdown",
   "metadata": {},
   "source": [
    "## 3. Merge results together"
   ]
  },
  {
   "cell_type": "code",
   "execution_count": null,
   "metadata": {},
   "outputs": [],
   "source": [
    "products_rank = pd.merge(\n",
    "    sold_items_rank,\n",
    "    viewed_products_rank,\n",
    "    how=\"outer\",\n",
    "    left_index=True,\n",
    "    right_index=True\n",
    ")"
   ]
  },
  {
   "cell_type": "markdown",
   "metadata": {},
   "source": [
    "## 4. Visualize data as a graph\n",
    "\n",
    "We should see a scatter graph. We can't just create an average of solds and views rank, eg: `rank = ((solds + views) / 2)`. We should calculate the pythagorean distance, as the data is normalized. This way, we'll have products that are most sold AND viewed."
   ]
  },
  {
   "cell_type": "code",
   "execution_count": null,
   "metadata": {},
   "outputs": [],
   "source": [
    "%matplotlib inline\n",
    "\n",
    "import matplotlib\n",
    "import matplotlib.pyplot as plt\n",
    "\n",
    "fig, ax = plt.subplots(1, 1)\n",
    "ax.scatter(products_rank[\"view_rank\"], products_rank[\"sold_rank\"])\n",
    "\n",
    "plt.title(\"Sold vs Views rank\")\n",
    "ax.set_xlabel(\"Views rank\")\n",
    "ax.set_ylabel(\"Solds rank\")\n",
    "plt.show()"
   ]
  },
  {
   "cell_type": "markdown",
   "metadata": {},
   "source": [
    "## Calculate the Pythagorean distance and we have the popular products"
   ]
  },
  {
   "cell_type": "code",
   "execution_count": null,
   "metadata": {},
   "outputs": [],
   "source": [
    "import numpy as np\n",
    "\n",
    "def dist(x, y):\n",
    "    return np.sqrt( np.power(x, 2) + np.power(y, 2) )\n",
    "\n",
    "products_rank[\"rank\"] = dist(products_rank[\"view_rank\"].values, products_rank[\"sold_rank\"].values)\n",
    "\n",
    "# normalize again\n",
    "max_value = products_rank[\"rank\"].max()\n",
    "products_rank[\"rank\"] = products_rank[\"rank\"] / max_value\n",
    "\n",
    "popular_products = products_rank[[\"rank\"]].sort_values(\"rank\", ascending=False)\n",
    "popular_products.head(20)"
   ]
  },
  {
   "cell_type": "markdown",
   "metadata": {},
   "source": [
    "## Check whether our API returns the same result"
   ]
  },
  {
   "cell_type": "code",
   "execution_count": null,
   "metadata": {},
   "outputs": [],
   "source": [
    "from shuup_recommender.recommenders import popular_products\n",
    "popular_products().recommend(20)"
   ]
  },
  {
   "cell_type": "markdown",
   "metadata": {},
   "source": [
    "## Using the result and fethching products from database"
   ]
  },
  {
   "cell_type": "code",
   "execution_count": null,
   "metadata": {},
   "outputs": [],
   "source": [
    "from shuup.core.models import Product\n",
    "data = popular_products().recommend(10).to_dict()\n",
    "top_10_products_ids = data[\"rank\"].keys()\n",
    "Product.objects.filter(id__in=top_10_products_ids)"
   ]
  },
  {
   "cell_type": "code",
   "execution_count": null,
   "metadata": {},
   "outputs": [],
   "source": []
  }
 ],
 "metadata": {
  "kernelspec": {
   "display_name": "Python 3",
   "language": "python",
   "name": "python3"
  },
  "language_info": {
   "codemirror_mode": {
    "name": "ipython",
    "version": 3
   },
   "file_extension": ".py",
   "mimetype": "text/x-python",
   "name": "python",
   "nbconvert_exporter": "python",
   "pygments_lexer": "ipython3",
   "version": "3.5.2"
  }
 },
 "nbformat": 4,
 "nbformat_minor": 2
}
