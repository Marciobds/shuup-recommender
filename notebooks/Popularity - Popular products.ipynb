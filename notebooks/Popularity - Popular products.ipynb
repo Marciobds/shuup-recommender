{
 "cells": [
  {
   "cell_type": "markdown",
   "metadata": {},
   "source": [
    "# Popularity - Popular products\n",
    "\n",
    "A simple rank of most seen products and a simple rank of most sold products. Both results combined is the popularity rank."
   ]
  },
  {
   "cell_type": "markdown",
   "metadata": {},
   "source": [
    "### Initialize Django"
   ]
  },
  {
   "cell_type": "code",
   "execution_count": null,
   "metadata": {},
   "outputs": [],
   "source": [
    "import os\n",
    "os.environ.setdefault(\"DJANGO_SETTINGS_MODULE\", \"shuup_workbench.settings\")\n",
    "import django\n",
    "django.setup()"
   ]
  },
  {
   "cell_type": "markdown",
   "metadata": {},
   "source": [
    "### Remove old data"
   ]
  },
  {
   "cell_type": "code",
   "execution_count": null,
   "metadata": {},
   "outputs": [],
   "source": [
    "from shuup.core.models import *\n",
    "\n",
    "OrderLine.objects.all().delete()\n",
    "Order.objects.all().delete()\n",
    "PersonContact.objects.all().delete()\n",
    "Product.objects.all().delete()"
   ]
  },
  {
   "cell_type": "markdown",
   "metadata": {},
   "source": [
    "### Create fake data"
   ]
  },
  {
   "cell_type": "code",
   "execution_count": null,
   "metadata": {},
   "outputs": [],
   "source": [
    "import random\n",
    "import uuid\n",
    "from django.db.transaction import atomic\n",
    "from shuup.core.models import *\n",
    "from shuup.testing import factories\n",
    "\n",
    "\n",
    "shop = Shop.objects.first()\n",
    "supplier = factories.get_default_supplier()\n",
    "\n",
    "\n",
    "with atomic():\n",
    "    customers = [\n",
    "        factories.create_random_person()\n",
    "        for index in range(20)\n",
    "    ]\n",
    "    products = [\n",
    "        factories.create_product(\n",
    "            sku=uuid.uuid4().hex,\n",
    "            shop=shop,\n",
    "            supplier=supplier,\n",
    "            default_price=random.randrange(1, 100)\n",
    "        )\n",
    "        for index in range(100)\n",
    "    ]\n",
    "    orders = [\n",
    "        factories.create_random_order(\n",
    "            customer=random.choice(customers),\n",
    "            products=products,\n",
    "            completion_probability=1,\n",
    "            shop=shop\n",
    "        )\n",
    "        for index in range(200)\n",
    "    ]"
   ]
  },
  {
   "cell_type": "markdown",
   "metadata": {},
   "source": [
    "### Import libraries"
   ]
  },
  {
   "cell_type": "code",
   "execution_count": null,
   "metadata": {},
   "outputs": [],
   "source": [
    "import pandas as pd\n",
    "import numpy as np\n",
    "from django_pandas.io import read_frame"
   ]
  },
  {
   "cell_type": "markdown",
   "metadata": {},
   "source": [
    "## 1. Get most sold products"
   ]
  },
  {
   "cell_type": "code",
   "execution_count": null,
   "metadata": {},
   "outputs": [],
   "source": [
    "from shuup.core.models import OrderLine, OrderStatus\n",
    "\n",
    "order_lines = OrderLine.objects.products().filter(\n",
    "    order__status=OrderStatus.objects.get_default_complete(),\n",
    "    order__shop=shop\n",
    ")\n",
    "items_df = read_frame(order_lines, fieldnames=[\"product_id\", \"quantity\"])\n",
    "\n",
    "# group by product ID and sum quantities\n",
    "sold_items = items_df.groupby([\"product_id\"]).sum()\n",
    "\n",
    "# get the max value of quantity\n",
    "max_value = sold_items.agg({\"quantity\": \"max\"})[\"quantity\"]\n",
    "\n",
    "# normalize the valus\n",
    "sold_items[\"rank\"] = sold_items[\"quantity\"] / max_value\n",
    "\n",
    "# remove quantity col\n",
    "del(sold_items[\"quantity\"])\n",
    "\n",
    "# sort values by rank\n",
    "sold_items.sort_values(\"rank\", ascending=False)"
   ]
  },
  {
   "cell_type": "code",
   "execution_count": null,
   "metadata": {},
   "outputs": [],
   "source": []
  }
 ],
 "metadata": {
  "kernelspec": {
   "display_name": "Python 3",
   "language": "python",
   "name": "python3"
  },
  "language_info": {
   "codemirror_mode": {
    "name": "ipython",
    "version": 3
   },
   "file_extension": ".py",
   "mimetype": "text/x-python",
   "name": "python",
   "nbconvert_exporter": "python",
   "pygments_lexer": "ipython3",
   "version": "3.5.2"
  }
 },
 "nbformat": 4,
 "nbformat_minor": 2
}
